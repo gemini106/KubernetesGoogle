{
  "nbformat": 4,
  "nbformat_minor": 0,
  "metadata": {
    "colab": {
      "name": "Movies.ipynb",
      "provenance": [],
      "collapsed_sections": [],
      "authorship_tag": "ABX9TyN5kwFRgyYscQZyNAU9r8Wl",
      "include_colab_link": true
    },
    "kernelspec": {
      "display_name": "Python 3",
      "name": "python3"
    },
    "language_info": {
      "name": "python"
    }
  },
  "cells": [
    {
      "cell_type": "markdown",
      "metadata": {
        "id": "view-in-github",
        "colab_type": "text"
      },
      "source": [
        "<a href=\"https://colab.research.google.com/github/gemini106/KubernetesGoogle/blob/master/Movies.ipynb\" target=\"_parent\"><img src=\"https://colab.research.google.com/assets/colab-badge.svg\" alt=\"Open In Colab\"/></a>"
      ]
    },
    {
      "cell_type": "code",
      "metadata": {
        "id": "jJcsq1NTh_4X"
      },
      "source": [
        "import pandas as pd\n",
        "import numpy as np \n"
      ],
      "execution_count": null,
      "outputs": []
    },
    {
      "cell_type": "code",
      "metadata": {
        "id": "MYmgsaqtijAt"
      },
      "source": [
        "mv_data=pd.read_csv('movie.csv')"
      ],
      "execution_count": null,
      "outputs": []
    },
    {
      "cell_type": "code",
      "metadata": {
        "colab": {
          "background_save": true,
          "base_uri": "https://localhost:8080/"
        },
        "id": "gjjdtZ9fAq4w",
        "outputId": "aa2f318e-0c12-4d48-88c3-b5215abfa8af"
      },
      "source": [
        "mv_data.shape"
      ],
      "execution_count": null,
      "outputs": [
        {
          "output_type": "execute_result",
          "data": {
            "text/plain": [
              "(16744, 17)"
            ]
          },
          "metadata": {
            "tags": []
          },
          "execution_count": 0
        }
      ]
    },
    {
      "cell_type": "markdown",
      "metadata": {
        "id": "-EWHPMZwA0l2"
      },
      "source": [
        "# We have 16,744 rows and 17"
      ]
    },
    {
      "cell_type": "code",
      "metadata": {
        "colab": {
          "base_uri": "https://localhost:8080/",
          "height": 1000
        },
        "id": "kB_Y046M7DBF",
        "outputId": "cebe0b4b-5bec-4731-eb11-2179d8487894"
      },
      "source": [
        "mv_data.head(20)"
      ],
      "execution_count": null,
      "outputs": [
        {
          "output_type": "execute_result",
          "data": {
            "text/html": [
              "<div>\n",
              "<style scoped>\n",
              "    .dataframe tbody tr th:only-of-type {\n",
              "        vertical-align: middle;\n",
              "    }\n",
              "\n",
              "    .dataframe tbody tr th {\n",
              "        vertical-align: top;\n",
              "    }\n",
              "\n",
              "    .dataframe thead th {\n",
              "        text-align: right;\n",
              "    }\n",
              "</style>\n",
              "<table border=\"1\" class=\"dataframe\">\n",
              "  <thead>\n",
              "    <tr style=\"text-align: right;\">\n",
              "      <th></th>\n",
              "      <th>Unnamed: 0</th>\n",
              "      <th>ID</th>\n",
              "      <th>Title</th>\n",
              "      <th>Year</th>\n",
              "      <th>Age</th>\n",
              "      <th>IMDb</th>\n",
              "      <th>Rotten Tomatoes</th>\n",
              "      <th>Netflix</th>\n",
              "      <th>Hulu</th>\n",
              "      <th>Prime Video</th>\n",
              "      <th>Disney+</th>\n",
              "      <th>Type</th>\n",
              "      <th>Directors</th>\n",
              "      <th>Genres</th>\n",
              "      <th>Country</th>\n",
              "      <th>Language</th>\n",
              "      <th>Runtime</th>\n",
              "    </tr>\n",
              "  </thead>\n",
              "  <tbody>\n",
              "    <tr>\n",
              "      <th>0</th>\n",
              "      <td>0</td>\n",
              "      <td>1</td>\n",
              "      <td>Inception</td>\n",
              "      <td>2010</td>\n",
              "      <td>13+</td>\n",
              "      <td>8.8</td>\n",
              "      <td>87%</td>\n",
              "      <td>1</td>\n",
              "      <td>0</td>\n",
              "      <td>0</td>\n",
              "      <td>0</td>\n",
              "      <td>0</td>\n",
              "      <td>Christopher Nolan</td>\n",
              "      <td>Action,Adventure,Sci-Fi,Thriller</td>\n",
              "      <td>United States,United Kingdom</td>\n",
              "      <td>English,Japanese,French</td>\n",
              "      <td>148.0</td>\n",
              "    </tr>\n",
              "    <tr>\n",
              "      <th>1</th>\n",
              "      <td>1</td>\n",
              "      <td>2</td>\n",
              "      <td>The Matrix</td>\n",
              "      <td>1999</td>\n",
              "      <td>18+</td>\n",
              "      <td>8.7</td>\n",
              "      <td>87%</td>\n",
              "      <td>1</td>\n",
              "      <td>0</td>\n",
              "      <td>0</td>\n",
              "      <td>0</td>\n",
              "      <td>0</td>\n",
              "      <td>Lana Wachowski,Lilly Wachowski</td>\n",
              "      <td>Action,Sci-Fi</td>\n",
              "      <td>United States</td>\n",
              "      <td>English</td>\n",
              "      <td>136.0</td>\n",
              "    </tr>\n",
              "    <tr>\n",
              "      <th>2</th>\n",
              "      <td>2</td>\n",
              "      <td>3</td>\n",
              "      <td>Avengers: Infinity War</td>\n",
              "      <td>2018</td>\n",
              "      <td>13+</td>\n",
              "      <td>8.5</td>\n",
              "      <td>84%</td>\n",
              "      <td>1</td>\n",
              "      <td>0</td>\n",
              "      <td>0</td>\n",
              "      <td>0</td>\n",
              "      <td>0</td>\n",
              "      <td>Anthony Russo,Joe Russo</td>\n",
              "      <td>Action,Adventure,Sci-Fi</td>\n",
              "      <td>United States</td>\n",
              "      <td>English</td>\n",
              "      <td>149.0</td>\n",
              "    </tr>\n",
              "    <tr>\n",
              "      <th>3</th>\n",
              "      <td>3</td>\n",
              "      <td>4</td>\n",
              "      <td>Back to the Future</td>\n",
              "      <td>1985</td>\n",
              "      <td>7+</td>\n",
              "      <td>8.5</td>\n",
              "      <td>96%</td>\n",
              "      <td>1</td>\n",
              "      <td>0</td>\n",
              "      <td>0</td>\n",
              "      <td>0</td>\n",
              "      <td>0</td>\n",
              "      <td>Robert Zemeckis</td>\n",
              "      <td>Adventure,Comedy,Sci-Fi</td>\n",
              "      <td>United States</td>\n",
              "      <td>English</td>\n",
              "      <td>116.0</td>\n",
              "    </tr>\n",
              "    <tr>\n",
              "      <th>4</th>\n",
              "      <td>4</td>\n",
              "      <td>5</td>\n",
              "      <td>The Good, the Bad and the Ugly</td>\n",
              "      <td>1966</td>\n",
              "      <td>18+</td>\n",
              "      <td>8.8</td>\n",
              "      <td>97%</td>\n",
              "      <td>1</td>\n",
              "      <td>0</td>\n",
              "      <td>1</td>\n",
              "      <td>0</td>\n",
              "      <td>0</td>\n",
              "      <td>Sergio Leone</td>\n",
              "      <td>Western</td>\n",
              "      <td>Italy,Spain,West Germany</td>\n",
              "      <td>Italian</td>\n",
              "      <td>161.0</td>\n",
              "    </tr>\n",
              "    <tr>\n",
              "      <th>5</th>\n",
              "      <td>5</td>\n",
              "      <td>6</td>\n",
              "      <td>Spider-Man: Into the Spider-Verse</td>\n",
              "      <td>2018</td>\n",
              "      <td>7+</td>\n",
              "      <td>8.4</td>\n",
              "      <td>97%</td>\n",
              "      <td>1</td>\n",
              "      <td>0</td>\n",
              "      <td>0</td>\n",
              "      <td>0</td>\n",
              "      <td>0</td>\n",
              "      <td>Bob Persichetti,Peter Ramsey,Rodney Rothman</td>\n",
              "      <td>Animation,Action,Adventure,Family,Sci-Fi</td>\n",
              "      <td>United States</td>\n",
              "      <td>English,Spanish</td>\n",
              "      <td>117.0</td>\n",
              "    </tr>\n",
              "    <tr>\n",
              "      <th>6</th>\n",
              "      <td>6</td>\n",
              "      <td>7</td>\n",
              "      <td>The Pianist</td>\n",
              "      <td>2002</td>\n",
              "      <td>18+</td>\n",
              "      <td>8.5</td>\n",
              "      <td>95%</td>\n",
              "      <td>1</td>\n",
              "      <td>0</td>\n",
              "      <td>1</td>\n",
              "      <td>0</td>\n",
              "      <td>0</td>\n",
              "      <td>Roman Polanski</td>\n",
              "      <td>Biography,Drama,Music,War</td>\n",
              "      <td>United Kingdom,France,Poland,Germany</td>\n",
              "      <td>English,German,Russian</td>\n",
              "      <td>150.0</td>\n",
              "    </tr>\n",
              "    <tr>\n",
              "      <th>7</th>\n",
              "      <td>7</td>\n",
              "      <td>8</td>\n",
              "      <td>Django Unchained</td>\n",
              "      <td>2012</td>\n",
              "      <td>18+</td>\n",
              "      <td>8.4</td>\n",
              "      <td>87%</td>\n",
              "      <td>1</td>\n",
              "      <td>0</td>\n",
              "      <td>0</td>\n",
              "      <td>0</td>\n",
              "      <td>0</td>\n",
              "      <td>Quentin Tarantino</td>\n",
              "      <td>Drama,Western</td>\n",
              "      <td>United States</td>\n",
              "      <td>English,German,French,Italian</td>\n",
              "      <td>165.0</td>\n",
              "    </tr>\n",
              "    <tr>\n",
              "      <th>8</th>\n",
              "      <td>8</td>\n",
              "      <td>9</td>\n",
              "      <td>Raiders of the Lost Ark</td>\n",
              "      <td>1981</td>\n",
              "      <td>7+</td>\n",
              "      <td>8.4</td>\n",
              "      <td>95%</td>\n",
              "      <td>1</td>\n",
              "      <td>0</td>\n",
              "      <td>0</td>\n",
              "      <td>0</td>\n",
              "      <td>0</td>\n",
              "      <td>Steven Spielberg</td>\n",
              "      <td>Action,Adventure</td>\n",
              "      <td>United States</td>\n",
              "      <td>English,German,Hebrew,Spanish,Arabic,Nepali</td>\n",
              "      <td>115.0</td>\n",
              "    </tr>\n",
              "    <tr>\n",
              "      <th>9</th>\n",
              "      <td>9</td>\n",
              "      <td>10</td>\n",
              "      <td>Inglourious Basterds</td>\n",
              "      <td>2009</td>\n",
              "      <td>18+</td>\n",
              "      <td>8.3</td>\n",
              "      <td>89%</td>\n",
              "      <td>1</td>\n",
              "      <td>0</td>\n",
              "      <td>0</td>\n",
              "      <td>0</td>\n",
              "      <td>0</td>\n",
              "      <td>Quentin Tarantino</td>\n",
              "      <td>Adventure,Drama,War</td>\n",
              "      <td>Germany,United States</td>\n",
              "      <td>English,German,French,Italian</td>\n",
              "      <td>153.0</td>\n",
              "    </tr>\n",
              "    <tr>\n",
              "      <th>10</th>\n",
              "      <td>10</td>\n",
              "      <td>11</td>\n",
              "      <td>Taxi Driver</td>\n",
              "      <td>1976</td>\n",
              "      <td>18+</td>\n",
              "      <td>8.3</td>\n",
              "      <td>95%</td>\n",
              "      <td>1</td>\n",
              "      <td>0</td>\n",
              "      <td>0</td>\n",
              "      <td>0</td>\n",
              "      <td>0</td>\n",
              "      <td>Martin Scorsese</td>\n",
              "      <td>Crime,Drama</td>\n",
              "      <td>United States</td>\n",
              "      <td>English,Spanish</td>\n",
              "      <td>114.0</td>\n",
              "    </tr>\n",
              "    <tr>\n",
              "      <th>11</th>\n",
              "      <td>11</td>\n",
              "      <td>12</td>\n",
              "      <td>3 Idiots</td>\n",
              "      <td>2009</td>\n",
              "      <td>13+</td>\n",
              "      <td>8.4</td>\n",
              "      <td>100%</td>\n",
              "      <td>1</td>\n",
              "      <td>0</td>\n",
              "      <td>1</td>\n",
              "      <td>0</td>\n",
              "      <td>0</td>\n",
              "      <td>Rajkumar Hirani</td>\n",
              "      <td>Comedy,Drama</td>\n",
              "      <td>India</td>\n",
              "      <td>Hindi,English</td>\n",
              "      <td>170.0</td>\n",
              "    </tr>\n",
              "    <tr>\n",
              "      <th>12</th>\n",
              "      <td>12</td>\n",
              "      <td>13</td>\n",
              "      <td>Pan's Labyrinth</td>\n",
              "      <td>2006</td>\n",
              "      <td>18+</td>\n",
              "      <td>8.2</td>\n",
              "      <td>95%</td>\n",
              "      <td>1</td>\n",
              "      <td>0</td>\n",
              "      <td>0</td>\n",
              "      <td>0</td>\n",
              "      <td>0</td>\n",
              "      <td>Guillermo del Toro</td>\n",
              "      <td>Drama,Fantasy,War</td>\n",
              "      <td>Mexico,Spain</td>\n",
              "      <td>Spanish</td>\n",
              "      <td>118.0</td>\n",
              "    </tr>\n",
              "    <tr>\n",
              "      <th>13</th>\n",
              "      <td>13</td>\n",
              "      <td>14</td>\n",
              "      <td>Room</td>\n",
              "      <td>2015</td>\n",
              "      <td>18+</td>\n",
              "      <td>8.1</td>\n",
              "      <td>93%</td>\n",
              "      <td>1</td>\n",
              "      <td>0</td>\n",
              "      <td>0</td>\n",
              "      <td>0</td>\n",
              "      <td>0</td>\n",
              "      <td>Lenny Abrahamson</td>\n",
              "      <td>Drama,Thriller</td>\n",
              "      <td>Ireland,Canada,United Kingdom,United States</td>\n",
              "      <td>English</td>\n",
              "      <td>118.0</td>\n",
              "    </tr>\n",
              "    <tr>\n",
              "      <th>14</th>\n",
              "      <td>14</td>\n",
              "      <td>15</td>\n",
              "      <td>Monty Python and the Holy Grail</td>\n",
              "      <td>1975</td>\n",
              "      <td>7+</td>\n",
              "      <td>8.2</td>\n",
              "      <td>97%</td>\n",
              "      <td>1</td>\n",
              "      <td>0</td>\n",
              "      <td>0</td>\n",
              "      <td>0</td>\n",
              "      <td>0</td>\n",
              "      <td>Terry Gilliam,Terry Jones</td>\n",
              "      <td>Adventure,Comedy,Fantasy</td>\n",
              "      <td>United Kingdom</td>\n",
              "      <td>English,French,Latin</td>\n",
              "      <td>91.0</td>\n",
              "    </tr>\n",
              "    <tr>\n",
              "      <th>15</th>\n",
              "      <td>15</td>\n",
              "      <td>16</td>\n",
              "      <td>Once Upon a Time in the West</td>\n",
              "      <td>1968</td>\n",
              "      <td>13+</td>\n",
              "      <td>8.5</td>\n",
              "      <td>95%</td>\n",
              "      <td>1</td>\n",
              "      <td>0</td>\n",
              "      <td>1</td>\n",
              "      <td>0</td>\n",
              "      <td>0</td>\n",
              "      <td>Sergio Leone</td>\n",
              "      <td>Western</td>\n",
              "      <td>Italy,United States</td>\n",
              "      <td>Italian,English,Spanish</td>\n",
              "      <td>165.0</td>\n",
              "    </tr>\n",
              "    <tr>\n",
              "      <th>16</th>\n",
              "      <td>16</td>\n",
              "      <td>17</td>\n",
              "      <td>Indiana Jones and the Last Crusade</td>\n",
              "      <td>1989</td>\n",
              "      <td>13+</td>\n",
              "      <td>8.2</td>\n",
              "      <td>88%</td>\n",
              "      <td>1</td>\n",
              "      <td>0</td>\n",
              "      <td>0</td>\n",
              "      <td>0</td>\n",
              "      <td>0</td>\n",
              "      <td>Steven Spielberg</td>\n",
              "      <td>Action,Adventure</td>\n",
              "      <td>United States</td>\n",
              "      <td>English,German,Greek,Arabic</td>\n",
              "      <td>127.0</td>\n",
              "    </tr>\n",
              "    <tr>\n",
              "      <th>17</th>\n",
              "      <td>17</td>\n",
              "      <td>18</td>\n",
              "      <td>Groundhog Day</td>\n",
              "      <td>1993</td>\n",
              "      <td>7+</td>\n",
              "      <td>8.0</td>\n",
              "      <td>96%</td>\n",
              "      <td>1</td>\n",
              "      <td>0</td>\n",
              "      <td>0</td>\n",
              "      <td>0</td>\n",
              "      <td>0</td>\n",
              "      <td>Harold Ramis</td>\n",
              "      <td>Comedy,Fantasy,Romance</td>\n",
              "      <td>United States</td>\n",
              "      <td>English,French,Italian</td>\n",
              "      <td>101.0</td>\n",
              "    </tr>\n",
              "    <tr>\n",
              "      <th>18</th>\n",
              "      <td>18</td>\n",
              "      <td>19</td>\n",
              "      <td>The King's Speech</td>\n",
              "      <td>2010</td>\n",
              "      <td>18+</td>\n",
              "      <td>8.0</td>\n",
              "      <td>95%</td>\n",
              "      <td>1</td>\n",
              "      <td>0</td>\n",
              "      <td>0</td>\n",
              "      <td>0</td>\n",
              "      <td>0</td>\n",
              "      <td>Tom Hooper</td>\n",
              "      <td>Biography,Drama,History</td>\n",
              "      <td>United Kingdom,United States,Australia</td>\n",
              "      <td>English</td>\n",
              "      <td>118.0</td>\n",
              "    </tr>\n",
              "    <tr>\n",
              "      <th>19</th>\n",
              "      <td>19</td>\n",
              "      <td>20</td>\n",
              "      <td>Her</td>\n",
              "      <td>2013</td>\n",
              "      <td>18+</td>\n",
              "      <td>8.0</td>\n",
              "      <td>95%</td>\n",
              "      <td>1</td>\n",
              "      <td>0</td>\n",
              "      <td>0</td>\n",
              "      <td>0</td>\n",
              "      <td>0</td>\n",
              "      <td>Spike Jonze</td>\n",
              "      <td>Drama,Romance,Sci-Fi</td>\n",
              "      <td>United States</td>\n",
              "      <td>English</td>\n",
              "      <td>126.0</td>\n",
              "    </tr>\n",
              "  </tbody>\n",
              "</table>\n",
              "</div>"
            ],
            "text/plain": [
              "    Unnamed: 0  ID  ...                                     Language  Runtime\n",
              "0            0   1  ...                      English,Japanese,French    148.0\n",
              "1            1   2  ...                                      English    136.0\n",
              "2            2   3  ...                                      English    149.0\n",
              "3            3   4  ...                                      English    116.0\n",
              "4            4   5  ...                                      Italian    161.0\n",
              "5            5   6  ...                              English,Spanish    117.0\n",
              "6            6   7  ...                       English,German,Russian    150.0\n",
              "7            7   8  ...                English,German,French,Italian    165.0\n",
              "8            8   9  ...  English,German,Hebrew,Spanish,Arabic,Nepali    115.0\n",
              "9            9  10  ...                English,German,French,Italian    153.0\n",
              "10          10  11  ...                              English,Spanish    114.0\n",
              "11          11  12  ...                                Hindi,English    170.0\n",
              "12          12  13  ...                                      Spanish    118.0\n",
              "13          13  14  ...                                      English    118.0\n",
              "14          14  15  ...                         English,French,Latin     91.0\n",
              "15          15  16  ...                      Italian,English,Spanish    165.0\n",
              "16          16  17  ...                  English,German,Greek,Arabic    127.0\n",
              "17          17  18  ...                       English,French,Italian    101.0\n",
              "18          18  19  ...                                      English    118.0\n",
              "19          19  20  ...                                      English    126.0\n",
              "\n",
              "[20 rows x 17 columns]"
            ]
          },
          "metadata": {
            "tags": []
          },
          "execution_count": 38
        }
      ]
    },
    {
      "cell_type": "markdown",
      "metadata": {
        "id": "Tk12zo5j8ct4"
      },
      "source": [
        "Dropping Unammed as it holds no useful info, or anything we can extract from, basically its like dirt"
      ]
    },
    {
      "cell_type": "markdown",
      "metadata": {
        "id": "MPrewwBM8oR1"
      },
      "source": [
        "Dropping ID, because it serves like Sr No only ( One can keep it if needed)"
      ]
    },
    {
      "cell_type": "code",
      "metadata": {
        "id": "lP82_IOG7B-f"
      },
      "source": [
        "#Remove \"Unnamed\" \n",
        "#mv_data=mv_data.drop(\"Unnamed: 0\",axis=1)"
      ],
      "execution_count": null,
      "outputs": []
    },
    {
      "cell_type": "code",
      "metadata": {
        "id": "it9EdFej8ND_"
      },
      "source": [
        "#Remove \"Id\" \n",
        "#mv_data=mv_data.drop(\"ID\",axis=1)"
      ],
      "execution_count": null,
      "outputs": []
    },
    {
      "cell_type": "code",
      "metadata": {
        "id": "Mzzlw4kW9K7F"
      },
      "source": [
        "#Easier way to drop coloumns at once\n",
        "mv_data = mv_data.drop(columns=['Unnamed: 0', 'ID'])"
      ],
      "execution_count": null,
      "outputs": []
    },
    {
      "cell_type": "code",
      "metadata": {
        "colab": {
          "base_uri": "https://localhost:8080/"
        },
        "id": "_9o4-cKu_DVD",
        "outputId": "12b526e6-8166-4675-f7f5-493cf6173fcf"
      },
      "source": [
        "mv_data.info()"
      ],
      "execution_count": null,
      "outputs": [
        {
          "output_type": "stream",
          "text": [
            "<class 'pandas.core.frame.DataFrame'>\n",
            "RangeIndex: 16744 entries, 0 to 16743\n",
            "Data columns (total 15 columns):\n",
            " #   Column           Non-Null Count  Dtype  \n",
            "---  ------           --------------  -----  \n",
            " 0   Title            16744 non-null  object \n",
            " 1   Year             16744 non-null  int64  \n",
            " 2   Age              7354 non-null   object \n",
            " 3   IMDb             16173 non-null  float64\n",
            " 4   Rotten Tomatoes  5158 non-null   object \n",
            " 5   Netflix          16744 non-null  int64  \n",
            " 6   Hulu             16744 non-null  int64  \n",
            " 7   Prime Video      16744 non-null  int64  \n",
            " 8   Disney+          16744 non-null  int64  \n",
            " 9   Type             16744 non-null  int64  \n",
            " 10  Directors        16018 non-null  object \n",
            " 11  Genres           16469 non-null  object \n",
            " 12  Country          16309 non-null  object \n",
            " 13  Language         16145 non-null  object \n",
            " 14  Runtime          16152 non-null  float64\n",
            "dtypes: float64(2), int64(6), object(7)\n",
            "memory usage: 1.9+ MB\n"
          ],
          "name": "stdout"
        }
      ]
    },
    {
      "cell_type": "code",
      "metadata": {
        "colab": {
          "base_uri": "https://localhost:8080/"
        },
        "id": "1uM0J_gli-VX",
        "outputId": "8482fb13-915e-4f6c-a56d-04d666cd3586"
      },
      "source": [
        "#You can Run seperate as well\n",
        "mv_data.dtypes"
      ],
      "execution_count": null,
      "outputs": [
        {
          "output_type": "execute_result",
          "data": {
            "text/plain": [
              "Title               object\n",
              "Year                 int64\n",
              "Age                 object\n",
              "IMDb               float64\n",
              "Rotten Tomatoes     object\n",
              "Netflix              int64\n",
              "Hulu                 int64\n",
              "Prime Video          int64\n",
              "Disney+              int64\n",
              "Type                 int64\n",
              "Directors           object\n",
              "Genres              object\n",
              "Country             object\n",
              "Language            object\n",
              "Runtime            float64\n",
              "dtype: object"
            ]
          },
          "metadata": {
            "tags": []
          },
          "execution_count": 20
        }
      ]
    },
    {
      "cell_type": "code",
      "metadata": {
        "colab": {
          "base_uri": "https://localhost:8080/"
        },
        "id": "WEBsjjZOjj9p",
        "outputId": "ff0d3c7c-a43c-46ec-9995-fc9b28e7019b"
      },
      "source": [
        "pd.isnull(mv_data).sum()"
      ],
      "execution_count": null,
      "outputs": [
        {
          "output_type": "execute_result",
          "data": {
            "text/plain": [
              "Title                  0\n",
              "Year                   0\n",
              "Age                 9390\n",
              "IMDb                 571\n",
              "Rotten Tomatoes    11586\n",
              "Netflix                0\n",
              "Hulu                   0\n",
              "Prime Video            0\n",
              "Disney+                0\n",
              "Type                   0\n",
              "Directors            726\n",
              "Genres               275\n",
              "Country              435\n",
              "Language             599\n",
              "Runtime              592\n",
              "dtype: int64"
            ]
          },
          "metadata": {
            "tags": []
          },
          "execution_count": 21
        }
      ]
    },
    {
      "cell_type": "markdown",
      "metadata": {
        "id": "gIm9FMSqBBPn"
      },
      "source": [
        "# Basically all those with 0, have all unique value\n",
        " eg. 16744 titles equal to the number of rows in the dataset.So,there are no duplicate entries.\n",
        "\n",
        "# Also there are no Null enteries in them "
      ]
    },
    {
      "cell_type": "markdown",
      "metadata": {
        "id": "2J_YSUxmjuK5"
      },
      "source": [
        "# Age\n",
        "\n",
        "Since more than 60% of the movies don`t have data for Age in the dataset, we will replace the NaN values with 'Unknown':"
      ]
    },
    {
      "cell_type": "code",
      "metadata": {
        "id": "cfhosuQAkAyU"
      },
      "source": [
        "mv_data.Age = mv_data.Age.fillna('Unknown')"
      ],
      "execution_count": null,
      "outputs": []
    },
    {
      "cell_type": "code",
      "metadata": {
        "colab": {
          "base_uri": "https://localhost:8080/"
        },
        "id": "JrXLIjkLkSTC",
        "outputId": "0007005b-bc8f-41d0-a8cd-eb9cc1ae58b6"
      },
      "source": [
        "mv_data.Age.value_counts()"
      ],
      "execution_count": null,
      "outputs": [
        {
          "output_type": "execute_result",
          "data": {
            "text/plain": [
              "18+    3474\n",
              "7+     1462\n",
              "13+    1255\n",
              "all     843\n",
              "16+     320\n",
              "Name: Age, dtype: int64"
            ]
          },
          "metadata": {
            "tags": []
          },
          "execution_count": 39
        }
      ]
    },
    {
      "cell_type": "code",
      "metadata": {
        "colab": {
          "base_uri": "https://localhost:8080/"
        },
        "id": "i6eR9SMzkInc",
        "outputId": "45f5151f-2fc6-4bbf-fbe3-41c9e5db5bbd"
      },
      "source": [
        "pd.isnull(mv_data).sum()"
      ],
      "execution_count": null,
      "outputs": [
        {
          "output_type": "execute_result",
          "data": {
            "text/plain": [
              "Title                  0\n",
              "Year                   0\n",
              "Age                    0\n",
              "IMDb                 571\n",
              "Rotten Tomatoes    11586\n",
              "Netflix                0\n",
              "Hulu                   0\n",
              "Prime Video            0\n",
              "Disney+                0\n",
              "Type                   0\n",
              "Directors            726\n",
              "Genres               275\n",
              "Country              435\n",
              "Language             599\n",
              "Runtime              592\n",
              "dtype: int64"
            ]
          },
          "metadata": {
            "tags": []
          },
          "execution_count": 24
        }
      ]
    },
    {
      "cell_type": "markdown",
      "metadata": {
        "id": "YOzPfmEEkb4q"
      },
      "source": [
        "IMDb and Rotten Tomatoes columns\n",
        "\n",
        "We will also replacing empty values for the IMDb column. Rotten Tomatoes has pecentage signs on the data. We will strip it and convert the values to float for performing numerical calculations:"
      ]
    },
    {
      "cell_type": "code",
      "metadata": {
        "id": "5pl17V-dkdjS"
      },
      "source": [
        "mv_data.IMDb = mv_data.IMDb.fillna(0)\n"
      ],
      "execution_count": null,
      "outputs": []
    },
    {
      "cell_type": "code",
      "metadata": {
        "id": "P3hkXN8aknH-"
      },
      "source": [
        "#stripping the % sign and converting to float\n",
        "mv_data['Rotten Tomatoes'] = mv_data['Rotten Tomatoes'].str.rstrip('%').astype('float')\n",
        "#Filling NaN values with 0\n",
        "mv_data['Rotten Tomatoes'] = mv_data['Rotten Tomatoes'].fillna(0)"
      ],
      "execution_count": null,
      "outputs": []
    },
    {
      "cell_type": "code",
      "metadata": {
        "id": "kH2dO9rof2xP"
      },
      "source": [
        ""
      ],
      "execution_count": null,
      "outputs": []
    },
    {
      "cell_type": "markdown",
      "metadata": {
        "id": "8x_tlpUqf3f2"
      },
      "source": [
        "Incase you want the prediction, based only on IMDB, drop Rotten Tomatoes coloumn, as it has excessively low data.\n",
        "\n",
        "secondly, if you keep Rotten Tomatoes and fill empty ones with 0, automatically will increase the status of those movies which have good rating on IMDB as well a descent rating on Rotten Tomatoes"
      ]
    },
    {
      "cell_type": "code",
      "metadata": {
        "id": "SwtW-RASqoOh"
      },
      "source": [
        "#Dropping \"Rotten Tomatoes\" for its excessively low data \n",
        "#mv_data = mv_data.drop(['Rotten Tomatoes'], axis=1)\n",
        "\n",
        "#\"Title\" and \"Type\" are dropped as it is irrelevant for our prediction.\n",
        "#mv_data = mv_data.drop(['Title','Type'], axis=1)\n",
        "#mv_data.isna().sum()"
      ],
      "execution_count": null,
      "outputs": []
    },
    {
      "cell_type": "code",
      "metadata": {
        "colab": {
          "base_uri": "https://localhost:8080/"
        },
        "id": "W2y5s7qjk_gb",
        "outputId": "da0ee5d7-080a-4961-a7e7-fa67eaeb2848"
      },
      "source": [
        "pd.isnull(mv_data).sum()"
      ],
      "execution_count": null,
      "outputs": [
        {
          "output_type": "execute_result",
          "data": {
            "text/plain": [
              "Title                0\n",
              "Year                 0\n",
              "Age                  0\n",
              "IMDb                 0\n",
              "Rotten Tomatoes      0\n",
              "Netflix              0\n",
              "Hulu                 0\n",
              "Prime Video          0\n",
              "Disney+              0\n",
              "Type                 0\n",
              "Directors          726\n",
              "Genres             275\n",
              "Country            435\n",
              "Language           599\n",
              "Runtime            592\n",
              "dtype: int64"
            ]
          },
          "metadata": {
            "tags": []
          },
          "execution_count": 27
        }
      ]
    },
    {
      "cell_type": "code",
      "metadata": {
        "colab": {
          "base_uri": "https://localhost:8080/",
          "height": 284
        },
        "id": "1sSBmWbElHsG",
        "outputId": "a2455a63-0b09-40d9-b781-39a2c7801746"
      },
      "source": [
        "mv_data.describe()"
      ],
      "execution_count": null,
      "outputs": [
        {
          "output_type": "execute_result",
          "data": {
            "text/html": [
              "<div>\n",
              "<style scoped>\n",
              "    .dataframe tbody tr th:only-of-type {\n",
              "        vertical-align: middle;\n",
              "    }\n",
              "\n",
              "    .dataframe tbody tr th {\n",
              "        vertical-align: top;\n",
              "    }\n",
              "\n",
              "    .dataframe thead th {\n",
              "        text-align: right;\n",
              "    }\n",
              "</style>\n",
              "<table border=\"1\" class=\"dataframe\">\n",
              "  <thead>\n",
              "    <tr style=\"text-align: right;\">\n",
              "      <th></th>\n",
              "      <th>Year</th>\n",
              "      <th>IMDb</th>\n",
              "      <th>Rotten Tomatoes</th>\n",
              "      <th>Netflix</th>\n",
              "      <th>Hulu</th>\n",
              "      <th>Prime Video</th>\n",
              "      <th>Disney+</th>\n",
              "      <th>Type</th>\n",
              "      <th>Runtime</th>\n",
              "    </tr>\n",
              "  </thead>\n",
              "  <tbody>\n",
              "    <tr>\n",
              "      <th>count</th>\n",
              "      <td>16744.000000</td>\n",
              "      <td>16744.000000</td>\n",
              "      <td>16744.000000</td>\n",
              "      <td>16744.000000</td>\n",
              "      <td>16744.000000</td>\n",
              "      <td>16744.000000</td>\n",
              "      <td>16744.000000</td>\n",
              "      <td>16744.0</td>\n",
              "      <td>16152.000000</td>\n",
              "    </tr>\n",
              "    <tr>\n",
              "      <th>mean</th>\n",
              "      <td>2003.014035</td>\n",
              "      <td>5.701457</td>\n",
              "      <td>20.155280</td>\n",
              "      <td>0.212613</td>\n",
              "      <td>0.053930</td>\n",
              "      <td>0.737817</td>\n",
              "      <td>0.033684</td>\n",
              "      <td>0.0</td>\n",
              "      <td>93.413447</td>\n",
              "    </tr>\n",
              "    <tr>\n",
              "      <th>std</th>\n",
              "      <td>20.674321</td>\n",
              "      <td>1.703681</td>\n",
              "      <td>33.626192</td>\n",
              "      <td>0.409169</td>\n",
              "      <td>0.225886</td>\n",
              "      <td>0.439835</td>\n",
              "      <td>0.180419</td>\n",
              "      <td>0.0</td>\n",
              "      <td>28.219222</td>\n",
              "    </tr>\n",
              "    <tr>\n",
              "      <th>min</th>\n",
              "      <td>1902.000000</td>\n",
              "      <td>0.000000</td>\n",
              "      <td>0.000000</td>\n",
              "      <td>0.000000</td>\n",
              "      <td>0.000000</td>\n",
              "      <td>0.000000</td>\n",
              "      <td>0.000000</td>\n",
              "      <td>0.0</td>\n",
              "      <td>1.000000</td>\n",
              "    </tr>\n",
              "    <tr>\n",
              "      <th>25%</th>\n",
              "      <td>2000.000000</td>\n",
              "      <td>4.900000</td>\n",
              "      <td>0.000000</td>\n",
              "      <td>0.000000</td>\n",
              "      <td>0.000000</td>\n",
              "      <td>0.000000</td>\n",
              "      <td>0.000000</td>\n",
              "      <td>0.0</td>\n",
              "      <td>82.000000</td>\n",
              "    </tr>\n",
              "    <tr>\n",
              "      <th>50%</th>\n",
              "      <td>2012.000000</td>\n",
              "      <td>6.000000</td>\n",
              "      <td>0.000000</td>\n",
              "      <td>0.000000</td>\n",
              "      <td>0.000000</td>\n",
              "      <td>1.000000</td>\n",
              "      <td>0.000000</td>\n",
              "      <td>0.0</td>\n",
              "      <td>92.000000</td>\n",
              "    </tr>\n",
              "    <tr>\n",
              "      <th>75%</th>\n",
              "      <td>2016.000000</td>\n",
              "      <td>6.900000</td>\n",
              "      <td>38.000000</td>\n",
              "      <td>0.000000</td>\n",
              "      <td>0.000000</td>\n",
              "      <td>1.000000</td>\n",
              "      <td>0.000000</td>\n",
              "      <td>0.0</td>\n",
              "      <td>104.000000</td>\n",
              "    </tr>\n",
              "    <tr>\n",
              "      <th>max</th>\n",
              "      <td>2020.000000</td>\n",
              "      <td>9.300000</td>\n",
              "      <td>100.000000</td>\n",
              "      <td>1.000000</td>\n",
              "      <td>1.000000</td>\n",
              "      <td>1.000000</td>\n",
              "      <td>1.000000</td>\n",
              "      <td>0.0</td>\n",
              "      <td>1256.000000</td>\n",
              "    </tr>\n",
              "  </tbody>\n",
              "</table>\n",
              "</div>"
            ],
            "text/plain": [
              "               Year          IMDb  ...     Type       Runtime\n",
              "count  16744.000000  16744.000000  ...  16744.0  16152.000000\n",
              "mean    2003.014035      5.701457  ...      0.0     93.413447\n",
              "std       20.674321      1.703681  ...      0.0     28.219222\n",
              "min     1902.000000      0.000000  ...      0.0      1.000000\n",
              "25%     2000.000000      4.900000  ...      0.0     82.000000\n",
              "50%     2012.000000      6.000000  ...      0.0     92.000000\n",
              "75%     2016.000000      6.900000  ...      0.0    104.000000\n",
              "max     2020.000000      9.300000  ...      0.0   1256.000000\n",
              "\n",
              "[8 rows x 9 columns]"
            ]
          },
          "metadata": {
            "tags": []
          },
          "execution_count": 28
        }
      ]
    },
    {
      "cell_type": "markdown",
      "metadata": {
        "id": "8y3ZXDTapQkB"
      },
      "source": [
        "There seems to be a movie with a Runtime of 1256. Let's confirm if any mistakes have hapenned with this column:\n",
        "\n"
      ]
    },
    {
      "cell_type": "code",
      "metadata": {
        "colab": {
          "base_uri": "https://localhost:8080/",
          "height": 459
        },
        "id": "LhNMHltTpOTD",
        "outputId": "7ce62744-564c-4323-a48f-d60b970215a9"
      },
      "source": [
        "#Checking if there are movies with more than 300 minutes of runtime\n",
        "mv_data[mv_data.Runtime > 300]"
      ],
      "execution_count": null,
      "outputs": [
        {
          "output_type": "execute_result",
          "data": {
            "text/html": [
              "<div>\n",
              "<style scoped>\n",
              "    .dataframe tbody tr th:only-of-type {\n",
              "        vertical-align: middle;\n",
              "    }\n",
              "\n",
              "    .dataframe tbody tr th {\n",
              "        vertical-align: top;\n",
              "    }\n",
              "\n",
              "    .dataframe thead th {\n",
              "        text-align: right;\n",
              "    }\n",
              "</style>\n",
              "<table border=\"1\" class=\"dataframe\">\n",
              "  <thead>\n",
              "    <tr style=\"text-align: right;\">\n",
              "      <th></th>\n",
              "      <th>Title</th>\n",
              "      <th>Year</th>\n",
              "      <th>Age</th>\n",
              "      <th>IMDb</th>\n",
              "      <th>Rotten Tomatoes</th>\n",
              "      <th>Netflix</th>\n",
              "      <th>Hulu</th>\n",
              "      <th>Prime Video</th>\n",
              "      <th>Disney+</th>\n",
              "      <th>Type</th>\n",
              "      <th>Directors</th>\n",
              "      <th>Genres</th>\n",
              "      <th>Country</th>\n",
              "      <th>Language</th>\n",
              "      <th>Runtime</th>\n",
              "    </tr>\n",
              "  </thead>\n",
              "  <tbody>\n",
              "    <tr>\n",
              "      <th>4405</th>\n",
              "      <td>Law of the Lawless</td>\n",
              "      <td>1964</td>\n",
              "      <td>Unknown</td>\n",
              "      <td>6.1</td>\n",
              "      <td>0.0</td>\n",
              "      <td>0</td>\n",
              "      <td>1</td>\n",
              "      <td>1</td>\n",
              "      <td>0</td>\n",
              "      <td>0</td>\n",
              "      <td>NaN</td>\n",
              "      <td>Action,Crime,Drama</td>\n",
              "      <td>Russia</td>\n",
              "      <td>Russian</td>\n",
              "      <td>750.0</td>\n",
              "    </tr>\n",
              "    <tr>\n",
              "      <th>12475</th>\n",
              "      <td>Scarlett</td>\n",
              "      <td>2016</td>\n",
              "      <td>16+</td>\n",
              "      <td>4.4</td>\n",
              "      <td>0.0</td>\n",
              "      <td>0</td>\n",
              "      <td>0</td>\n",
              "      <td>1</td>\n",
              "      <td>0</td>\n",
              "      <td>0</td>\n",
              "      <td>NaN</td>\n",
              "      <td>Drama,Romance</td>\n",
              "      <td>France,United States,Germany,Italy,United King...</td>\n",
              "      <td>English</td>\n",
              "      <td>360.0</td>\n",
              "    </tr>\n",
              "    <tr>\n",
              "      <th>13048</th>\n",
              "      <td>Custer's Last Stand</td>\n",
              "      <td>1936</td>\n",
              "      <td>Unknown</td>\n",
              "      <td>4.6</td>\n",
              "      <td>0.0</td>\n",
              "      <td>0</td>\n",
              "      <td>0</td>\n",
              "      <td>1</td>\n",
              "      <td>0</td>\n",
              "      <td>0</td>\n",
              "      <td>Elmer Clifton</td>\n",
              "      <td>Adventure,History,Romance,War,Western</td>\n",
              "      <td>United States</td>\n",
              "      <td>English</td>\n",
              "      <td>328.0</td>\n",
              "    </tr>\n",
              "    <tr>\n",
              "      <th>13115</th>\n",
              "      <td>Carlos el terrorista</td>\n",
              "      <td>1980</td>\n",
              "      <td>Unknown</td>\n",
              "      <td>6.1</td>\n",
              "      <td>0.0</td>\n",
              "      <td>0</td>\n",
              "      <td>0</td>\n",
              "      <td>1</td>\n",
              "      <td>0</td>\n",
              "      <td>0</td>\n",
              "      <td>NaN</td>\n",
              "      <td>Biography,Crime,Drama,Thriller</td>\n",
              "      <td>France,Germany</td>\n",
              "      <td>English,Arabic,German,Spanish,French,Hungarian...</td>\n",
              "      <td>334.0</td>\n",
              "    </tr>\n",
              "    <tr>\n",
              "      <th>13179</th>\n",
              "      <td>Colorado</td>\n",
              "      <td>1940</td>\n",
              "      <td>all</td>\n",
              "      <td>5.9</td>\n",
              "      <td>0.0</td>\n",
              "      <td>0</td>\n",
              "      <td>0</td>\n",
              "      <td>1</td>\n",
              "      <td>0</td>\n",
              "      <td>0</td>\n",
              "      <td>NaN</td>\n",
              "      <td>Action,Adventure,Drama,Romance,Western</td>\n",
              "      <td>United States</td>\n",
              "      <td>English</td>\n",
              "      <td>1256.0</td>\n",
              "    </tr>\n",
              "    <tr>\n",
              "      <th>14113</th>\n",
              "      <td>The Inner Circle</td>\n",
              "      <td>2009</td>\n",
              "      <td>Unknown</td>\n",
              "      <td>6.6</td>\n",
              "      <td>0.0</td>\n",
              "      <td>0</td>\n",
              "      <td>0</td>\n",
              "      <td>1</td>\n",
              "      <td>0</td>\n",
              "      <td>0</td>\n",
              "      <td>NaN</td>\n",
              "      <td>Drama</td>\n",
              "      <td>Sweden</td>\n",
              "      <td>Swedish</td>\n",
              "      <td>360.0</td>\n",
              "    </tr>\n",
              "    <tr>\n",
              "      <th>15295</th>\n",
              "      <td>The Vatican Museums</td>\n",
              "      <td>2007</td>\n",
              "      <td>Unknown</td>\n",
              "      <td>5.0</td>\n",
              "      <td>0.0</td>\n",
              "      <td>0</td>\n",
              "      <td>0</td>\n",
              "      <td>1</td>\n",
              "      <td>0</td>\n",
              "      <td>0</td>\n",
              "      <td>Luca De Mata</td>\n",
              "      <td>NaN</td>\n",
              "      <td>Italy</td>\n",
              "      <td>English</td>\n",
              "      <td>410.0</td>\n",
              "    </tr>\n",
              "  </tbody>\n",
              "</table>\n",
              "</div>"
            ],
            "text/plain": [
              "                      Title  ...  Runtime\n",
              "4405     Law of the Lawless  ...    750.0\n",
              "12475              Scarlett  ...    360.0\n",
              "13048   Custer's Last Stand  ...    328.0\n",
              "13115  Carlos el terrorista  ...    334.0\n",
              "13179              Colorado  ...   1256.0\n",
              "14113      The Inner Circle  ...    360.0\n",
              "15295   The Vatican Museums  ...    410.0\n",
              "\n",
              "[7 rows x 15 columns]"
            ]
          },
          "metadata": {
            "tags": []
          },
          "execution_count": 29
        }
      ]
    },
    {
      "cell_type": "markdown",
      "metadata": {
        "id": "1_RWro5ppnN9"
      },
      "source": [
        "There really are some mistakes in the data. For example, \"Colorado\" shows as having 57 minutes of runtime in IMDb catalog, and \"Law of the Lawless\" has 87 minutes. Since it is more common to have movies that are three hours long (around 200min) and there are only 7 entries above 300min \n",
        "\n",
        "Thus we will correct these fields manually using the data available at www.imdb.com:\n",
        "\n"
      ]
    },
    {
      "cell_type": "code",
      "metadata": {
        "id": "1qp_N-K2puHi"
      },
      "source": [
        "mv_data.loc[mv_data.Title == 'Law of the Lawless', ['Runtime']] = 87\n",
        "mv_data.loc[mv_data.Title == 'Scarlett', ['Runtime']] = 92\n",
        "mv_data.loc[mv_data.Title == 'Carlos el terrorista', ['Runtime']] = 97\n",
        "mv_data.loc[mv_data.Title == 'Colorado', ['Runtime']] = 57\n",
        "mv_data.loc[mv_data.Title == 'The Inner Circle', ['Runtime']] = 96"
      ],
      "execution_count": null,
      "outputs": []
    },
    {
      "cell_type": "markdown",
      "metadata": {
        "id": "Jrl8R1IFqL7R"
      },
      "source": [
        "Note: Custer's Last Stand and The Vatican Museums didn't need to be corrected. These two are really long!\n",
        "\n"
      ]
    },
    {
      "cell_type": "code",
      "metadata": {
        "colab": {
          "base_uri": "https://localhost:8080/",
          "height": 284
        },
        "id": "TJ6pW7NFqMuF",
        "outputId": "ff593e09-720e-4927-a53e-72df4d65b11f"
      },
      "source": [
        "mv_data.describe()"
      ],
      "execution_count": null,
      "outputs": [
        {
          "output_type": "execute_result",
          "data": {
            "text/html": [
              "<div>\n",
              "<style scoped>\n",
              "    .dataframe tbody tr th:only-of-type {\n",
              "        vertical-align: middle;\n",
              "    }\n",
              "\n",
              "    .dataframe tbody tr th {\n",
              "        vertical-align: top;\n",
              "    }\n",
              "\n",
              "    .dataframe thead th {\n",
              "        text-align: right;\n",
              "    }\n",
              "</style>\n",
              "<table border=\"1\" class=\"dataframe\">\n",
              "  <thead>\n",
              "    <tr style=\"text-align: right;\">\n",
              "      <th></th>\n",
              "      <th>Year</th>\n",
              "      <th>IMDb</th>\n",
              "      <th>Rotten Tomatoes</th>\n",
              "      <th>Netflix</th>\n",
              "      <th>Hulu</th>\n",
              "      <th>Prime Video</th>\n",
              "      <th>Disney+</th>\n",
              "      <th>Type</th>\n",
              "      <th>Runtime</th>\n",
              "    </tr>\n",
              "  </thead>\n",
              "  <tbody>\n",
              "    <tr>\n",
              "      <th>count</th>\n",
              "      <td>16744.000000</td>\n",
              "      <td>16744.000000</td>\n",
              "      <td>16744.000000</td>\n",
              "      <td>16744.000000</td>\n",
              "      <td>16744.000000</td>\n",
              "      <td>16744.000000</td>\n",
              "      <td>16744.000000</td>\n",
              "      <td>16744.0</td>\n",
              "      <td>16152.000000</td>\n",
              "    </tr>\n",
              "    <tr>\n",
              "      <th>mean</th>\n",
              "      <td>2003.014035</td>\n",
              "      <td>5.701457</td>\n",
              "      <td>20.155280</td>\n",
              "      <td>0.212613</td>\n",
              "      <td>0.053930</td>\n",
              "      <td>0.737817</td>\n",
              "      <td>0.033684</td>\n",
              "      <td>0.0</td>\n",
              "      <td>93.250557</td>\n",
              "    </tr>\n",
              "    <tr>\n",
              "      <th>std</th>\n",
              "      <td>20.674321</td>\n",
              "      <td>1.703681</td>\n",
              "      <td>33.626192</td>\n",
              "      <td>0.409169</td>\n",
              "      <td>0.225886</td>\n",
              "      <td>0.439835</td>\n",
              "      <td>0.180419</td>\n",
              "      <td>0.0</td>\n",
              "      <td>25.954224</td>\n",
              "    </tr>\n",
              "    <tr>\n",
              "      <th>min</th>\n",
              "      <td>1902.000000</td>\n",
              "      <td>0.000000</td>\n",
              "      <td>0.000000</td>\n",
              "      <td>0.000000</td>\n",
              "      <td>0.000000</td>\n",
              "      <td>0.000000</td>\n",
              "      <td>0.000000</td>\n",
              "      <td>0.0</td>\n",
              "      <td>1.000000</td>\n",
              "    </tr>\n",
              "    <tr>\n",
              "      <th>25%</th>\n",
              "      <td>2000.000000</td>\n",
              "      <td>4.900000</td>\n",
              "      <td>0.000000</td>\n",
              "      <td>0.000000</td>\n",
              "      <td>0.000000</td>\n",
              "      <td>0.000000</td>\n",
              "      <td>0.000000</td>\n",
              "      <td>0.0</td>\n",
              "      <td>82.000000</td>\n",
              "    </tr>\n",
              "    <tr>\n",
              "      <th>50%</th>\n",
              "      <td>2012.000000</td>\n",
              "      <td>6.000000</td>\n",
              "      <td>0.000000</td>\n",
              "      <td>0.000000</td>\n",
              "      <td>0.000000</td>\n",
              "      <td>1.000000</td>\n",
              "      <td>0.000000</td>\n",
              "      <td>0.0</td>\n",
              "      <td>92.000000</td>\n",
              "    </tr>\n",
              "    <tr>\n",
              "      <th>75%</th>\n",
              "      <td>2016.000000</td>\n",
              "      <td>6.900000</td>\n",
              "      <td>38.000000</td>\n",
              "      <td>0.000000</td>\n",
              "      <td>0.000000</td>\n",
              "      <td>1.000000</td>\n",
              "      <td>0.000000</td>\n",
              "      <td>0.0</td>\n",
              "      <td>104.000000</td>\n",
              "    </tr>\n",
              "    <tr>\n",
              "      <th>max</th>\n",
              "      <td>2020.000000</td>\n",
              "      <td>9.300000</td>\n",
              "      <td>100.000000</td>\n",
              "      <td>1.000000</td>\n",
              "      <td>1.000000</td>\n",
              "      <td>1.000000</td>\n",
              "      <td>1.000000</td>\n",
              "      <td>0.0</td>\n",
              "      <td>410.000000</td>\n",
              "    </tr>\n",
              "  </tbody>\n",
              "</table>\n",
              "</div>"
            ],
            "text/plain": [
              "               Year          IMDb  ...     Type       Runtime\n",
              "count  16744.000000  16744.000000  ...  16744.0  16152.000000\n",
              "mean    2003.014035      5.701457  ...      0.0     93.250557\n",
              "std       20.674321      1.703681  ...      0.0     25.954224\n",
              "min     1902.000000      0.000000  ...      0.0      1.000000\n",
              "25%     2000.000000      4.900000  ...      0.0     82.000000\n",
              "50%     2012.000000      6.000000  ...      0.0     92.000000\n",
              "75%     2016.000000      6.900000  ...      0.0    104.000000\n",
              "max     2020.000000      9.300000  ...      0.0    410.000000\n",
              "\n",
              "[8 rows x 9 columns]"
            ]
          },
          "metadata": {
            "tags": []
          },
          "execution_count": 31
        }
      ]
    },
    {
      "cell_type": "code",
      "metadata": {
        "id": "1Dx83T6yfu_i"
      },
      "source": [
        ""
      ],
      "execution_count": null,
      "outputs": []
    },
    {
      "cell_type": "code",
      "metadata": {
        "id": "dlPYcUJwy0pr"
      },
      "source": [
        "mv_data.update(mv_data[['Directors', 'Genres', 'Country', 'Language']].fillna('Unknown'))"
      ],
      "execution_count": null,
      "outputs": []
    },
    {
      "cell_type": "code",
      "metadata": {
        "colab": {
          "base_uri": "https://localhost:8080/"
        },
        "id": "LYHfFNlI2rJJ",
        "outputId": "84466bc1-ef2e-4a61-bd69-8b4c38a4a08d"
      },
      "source": [
        "pd.isnull(mv_data).sum()"
      ],
      "execution_count": null,
      "outputs": [
        {
          "output_type": "execute_result",
          "data": {
            "text/plain": [
              "Unnamed: 0         0\n",
              "ID                 0\n",
              "Title              0\n",
              "Year               0\n",
              "Age                0\n",
              "IMDb               0\n",
              "Rotten Tomatoes    0\n",
              "Netflix            0\n",
              "Hulu               0\n",
              "Prime Video        0\n",
              "Disney+            0\n",
              "Type               0\n",
              "Directors          0\n",
              "Genres             0\n",
              "Country            0\n",
              "Language           0\n",
              "Runtime            0\n",
              "dtype: int64"
            ]
          },
          "metadata": {
            "tags": []
          },
          "execution_count": 46
        }
      ]
    }
  ]
}